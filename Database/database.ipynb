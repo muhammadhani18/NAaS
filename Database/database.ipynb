{
 "cells": [
  {
   "cell_type": "code",
   "execution_count": 4,
   "metadata": {},
   "outputs": [],
   "source": [
    "import pandas as pd\n",
    "import psycopg2 as pg\n",
    "\n",
    "# Read data from files\n",
    "df = pd.read_csv(\"../Parser/Results.csv\")\n",
    "# Delete the creationdate column as we have no use\n",
    "del df[\"CreationDate\"]\n",
    "\n",
    "# Connect to postgres database\n",
    "conn = pg.connect(database=\"NAaaS\", user=\"postgres\",\n",
    "                  password=\"1234\", host=\"127.0.0.1\", port=\"8008\")\n",
    "cursor = conn.cursor()\n",
    "\n",
    "# For each row in the dataframe, insert into database\n",
    "for data in df.itertuples():\n",
    "\n",
    "    # Check if focus location is a province, then insert with district, tehsil, union council as NULL\n",
    "    cursor.execute(\"Select name from province where name=%s\",\n",
    "                   (str(data[7]).upper(),))\n",
    "    province = cursor.fetchone()\n",
    "\n",
    "    if province:\n",
    "        cursor.execute(\"Insert into NEWS(header, summary, details, focus_time, focus_location, link, category, province) VALUES( %s, %s, %s, %s, %s, %s, %s, %s);\",\n",
    "                       (data[2], data[3], data[4], data[1], province[0], data[5], data[6],  province[0]))\n",
    "    # Else, Check if focus location is a district, then insert with tehsil, union council as NULL\n",
    "    else:\n",
    "        cursor.execute(\n",
    "            \"Select name, province from district where name=%s\", (str(data[7]).upper(),))\n",
    "        district = cursor.fetchone()\n",
    "        if district:\n",
    "            cursor.execute(\"Insert into NEWS(header, summary, details, focus_time, focus_location, link, category, province, district) VALUES( %s, %s, %s, %s, %s, %s, %s, %s, %s);\",\n",
    "                           (data[2], data[3], data[4], data[1], district[0], data[5], data[6],  district[1], district[0]))\n",
    "    # Else, Check if focus location is a tehsil, then insert with union council as NULL\n",
    "        else:\n",
    "            cursor.execute(\n",
    "                \"Select name, district from tehsil where name=%s\", (str(data[7]).upper(),))\n",
    "            tehsil = cursor.fetchone()\n",
    "            if tehsil:\n",
    "                cursor.execute(\n",
    "                    \"Select name, province from district where name=%s\", (tehsil[1],))\n",
    "                district = cursor.fetchone()\n",
    "                if district:\n",
    "                    cursor.execute(\"Insert into NEWS(header, summary, details, focus_time, focus_location, link, category, province, district, tehsil) VALUES( %s, %s, %s, %s, %s, %s, %s, %s, %s, %s);\",\n",
    "                                   (data[2], data[3], data[4], data[1], tehsil[0], data[5], data[6],  district[1], district[0], tehsil[0]))\n"
   ]
  },
  {
   "cell_type": "code",
   "execution_count": 5,
   "metadata": {},
   "outputs": [],
   "source": [
    "# Commit to database\n",
    "conn.commit()"
   ]
  },
  {
   "cell_type": "code",
   "execution_count": 6,
   "metadata": {},
   "outputs": [],
   "source": [
    "import pandas as pd\n",
    "import psycopg2 as pg\n",
    "import json\n",
    "import time\n",
    "\n",
    "file = open(r\"C:\\Danyal\\Work\\FAST\\Semester 8\\Final Year Project - II\\Project\\NAaaS\\Scrapper\\Tribune\\results.json\")\n",
    "\n",
    "data = json.load(file)\n",
    "\n",
    "# Connect to postgres database\n",
    "conn = pg.connect(database=\"NAaaS\", user=\"postgres\",\n",
    "                  password=\"1234\", host=\"127.0.0.1\", port=\"8008\")\n",
    "cursor = conn.cursor()\n",
    "\n",
    "for row in data:\n",
    "        # Check if focus location is a province, then insert with district, tehsil, union council as NULL\n",
    "    cursor.execute(\"Select name from province where name=%s\",\n",
    "                   (str(row[\"focusLocation\"]).upper(),))\n",
    "    province = cursor.fetchone()\n",
    "\n",
    "    if province:\n",
    "        if \"picture\" in row:\n",
    "            cursor.execute(\"Insert into NEWS_Tribune(header, summary, details, focus_time, focus_location, link, category, province, topics, location_type, picture, sentiment, creation_date) VALUES( %s, %s, %s, %s, %s, %s, %s, %s, %s, %s, %s, %s, %s);\",\n",
    "                       (row[\"Header\"][\"Text\"], row[\"Summary\"][\"Text\"], row[\"Details\"][\"Text\"], row[\"focusTime\"], row[\"focusLocation\"].upper(), row[\"Link\"], row[\"Category\"], province[0], row[\"topics\"], \"Province\", row[\"picture\"], row[\"sentiment\"], row[\"CreationDate\"]))\n",
    "        else:\n",
    "            cursor.execute(\"Insert into NEWS_Dawn(header, summary, details, focus_time, focus_location, link, category, province, topics, location_type, sentiment, creation_date) VALUES( %s, %s, %s, %s, %s, %s, %s, %s, %s, %s, %s, %s);\",\n",
    "                       (row[\"Header\"][\"Text\"], row[\"Summary\"][\"Text\"], row[\"Details\"][\"Text\"], row[\"focusTime\"], row[\"focusLocation\"].upper(), row[\"Link\"], row[\"Category\"], province[0], row[\"topics\"], \"Province\", row[\"sentiment\"], row[\"CreationDate\"]))\n",
    "    \n",
    "    # Else, Check if focus location is a district, then insert with tehsil, union council as NULL\n",
    "    else:\n",
    "        cursor.execute(\n",
    "            \"Select name, province from district where name=%s\", (str(row[\"focusLocation\"]).upper(),))\n",
    "        district = cursor.fetchone()\n",
    "        if district:\n",
    "            if \"picture\" in row:\n",
    "                cursor.execute(\"Insert into NEWS_Tribune(header, summary, details, focus_time, focus_location, link, category, province, district, topics, location_type, picture, sentiment, creation_date) VALUES( %s, %s, %s, %s, %s, %s, %s, %s, %s, %s, %s, %s, %s, %s);\",\n",
    "                           (row[\"Header\"][\"Text\"], row[\"Summary\"][\"Text\"], row[\"Details\"][\"Text\"], row[\"focusTime\"], row[\"focusLocation\"].upper(), row[\"Link\"], row[\"Category\"], district[1], district[0], row[\"topics\"], \"District\", row[\"picture\"], row[\"sentiment\"], row[\"CreationDate\"]))\n",
    "            else:\n",
    "                cursor.execute(\"Insert into NEWS_Dawn(header, summary, details, focus_time, focus_location, link, category, province, district, topics, location_type, sentiment, creation_date) VALUES( %s, %s, %s, %s, %s, %s, %s, %s, %s, %s, %s, %s, %s);\",\n",
    "                           (row[\"Header\"][\"Text\"], row[\"Summary\"][\"Text\"], row[\"Details\"][\"Text\"], row[\"focusTime\"], row[\"focusLocation\"].upper(), row[\"Link\"], row[\"Category\"], district[1], district[0], row[\"topics\"], \"District\", row[\"sentiment\"], row[\"CreationDate\"]))\n",
    "           \n",
    "\n",
    "    # Else, Check if focus location is a tehsil, then insert with union council as NULL\n",
    "        else:\n",
    "            cursor.execute(\n",
    "                \"Select name, district from tehsil where name=%s\", (str(row[\"focusLocation\"]).upper(),))\n",
    "            tehsil = cursor.fetchone()\n",
    "            if tehsil:\n",
    "                cursor.execute(\n",
    "                    \"Select name, province from district where name=%s\", (tehsil[1],))\n",
    "                district = cursor.fetchone()\n",
    "                if district:\n",
    "                    if \"picture\" in row:\n",
    "                        cursor.execute(\"Insert into NEWS_Tribune(header, summary, details, focus_time, focus_location, link, category, province, district, tehsil, topics, location_type, picture, sentiment, creation_date) VALUES( %s, %s, %s, %s, %s, %s, %s, %s, %s, %s, %s, %s, %s, %s, %s);\",\n",
    "                                   (row[\"Header\"][\"Text\"], row[\"Summary\"][\"Text\"], row[\"Details\"][\"Text\"], row[\"focusTime\"], row[\"focusLocation\"].upper(), row[\"Link\"], row[\"Category\"],  district[1], district[0], tehsil[0], row[\"topics\"], \"Tehsil\", row[\"picture\"], row[\"sentiment\"], row[\"CreationDate\"]))\n",
    "                    else:\n",
    "                        cursor.execute(\"Insert into NEWS_Dawn(header, summary, details, focus_time, focus_location, link, category, province, district, tehsil, topics, location_type, sentiment, creation_date) VALUES( %s, %s, %s, %s, %s, %s, %s, %s, %s, %s, %s, %s, %s, %s);\",\n",
    "                                   (row[\"Header\"][\"Text\"], row[\"Summary\"][\"Text\"], row[\"Details\"][\"Text\"], row[\"focusTime\"], row[\"focusLocation\"].upper(), row[\"Link\"], row[\"Category\"],  district[1], district[0], tehsil[0], row[\"topics\"], \"Tehsil\", row[\"sentiment\"], row[\"CreationDate\"]))\n",
    "    conn.commit()\n",
    "    # time.sleep(5)                \n"
   ]
  },
  {
   "cell_type": "code",
   "execution_count": 4,
   "metadata": {},
   "outputs": [],
   "source": [
    "conn.commit()"
   ]
  },
  {
   "cell_type": "code",
   "execution_count": null,
   "metadata": {},
   "outputs": [],
   "source": []
  }
 ],
 "metadata": {
  "kernelspec": {
   "display_name": "Python 3.8.8 ('DIP')",
   "language": "python",
   "name": "python3"
  },
  "language_info": {
   "codemirror_mode": {
    "name": "ipython",
    "version": 3
   },
   "file_extension": ".py",
   "mimetype": "text/x-python",
   "name": "python",
   "nbconvert_exporter": "python",
   "pygments_lexer": "ipython3",
   "version": "3.8.8"
  },
  "orig_nbformat": 4,
  "vscode": {
   "interpreter": {
    "hash": "7fee64b6d10f71b2ad32d2aedca1959ec8ccaf90c3c6db5aa37e1a96c8621a02"
   }
  }
 },
 "nbformat": 4,
 "nbformat_minor": 2
}
